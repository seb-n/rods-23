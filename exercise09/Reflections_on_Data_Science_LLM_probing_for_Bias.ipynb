{
 "cells": [
  {
   "cell_type": "markdown",
   "metadata": {
    "id": "zeR5xovZ4vW3"
   },
   "source": [
    "This assignment is best run with a GPU. You can use Colaboratory or any other resource you may have access to.\n",
    "\n",
    "Make sure environment has the `transformers` library installed."
   ]
  },
  {
   "cell_type": "code",
   "execution_count": 17,
   "metadata": {
    "colab": {
     "base_uri": "https://localhost:8080/"
    },
    "id": "PetK2tYRPlzd",
    "outputId": "3f57bee4-9941-4b89-bb7c-9dd170ef55f3",
    "scrolled": true
   },
   "outputs": [
    {
     "name": "stdout",
     "output_type": "stream",
     "text": [
      "Looking in indexes: https://pypi.org/simple, https://us-python.pkg.dev/colab-wheels/public/simple/\n",
      "Requirement already satisfied: numpy in /usr/local/lib/python3.9/dist-packages (1.22.4)\n",
      "Requirement already satisfied: torch in /usr/local/lib/python3.9/dist-packages (1.13.1+cu116)\n",
      "Requirement already satisfied: transformers==4.27.3 in /usr/local/lib/python3.9/dist-packages (4.27.3)\n",
      "Requirement already satisfied: huggingface-hub<1.0,>=0.11.0 in /usr/local/lib/python3.9/dist-packages (from transformers==4.27.3) (0.13.3)\n",
      "Requirement already satisfied: requests in /usr/local/lib/python3.9/dist-packages (from transformers==4.27.3) (2.27.1)\n",
      "Requirement already satisfied: regex!=2019.12.17 in /usr/local/lib/python3.9/dist-packages (from transformers==4.27.3) (2022.10.31)\n",
      "Requirement already satisfied: tqdm>=4.27 in /usr/local/lib/python3.9/dist-packages (from transformers==4.27.3) (4.65.0)\n",
      "Requirement already satisfied: packaging>=20.0 in /usr/local/lib/python3.9/dist-packages (from transformers==4.27.3) (23.0)\n",
      "Requirement already satisfied: filelock in /usr/local/lib/python3.9/dist-packages (from transformers==4.27.3) (3.10.1)\n",
      "Requirement already satisfied: tokenizers!=0.11.3,<0.14,>=0.11.1 in /usr/local/lib/python3.9/dist-packages (from transformers==4.27.3) (0.13.2)\n",
      "Requirement already satisfied: pyyaml>=5.1 in /usr/local/lib/python3.9/dist-packages (from transformers==4.27.3) (6.0)\n",
      "Requirement already satisfied: typing-extensions in /usr/local/lib/python3.9/dist-packages (from torch) (4.5.0)\n",
      "Requirement already satisfied: urllib3<1.27,>=1.21.1 in /usr/local/lib/python3.9/dist-packages (from requests->transformers==4.27.3) (1.26.15)\n",
      "Requirement already satisfied: certifi>=2017.4.17 in /usr/local/lib/python3.9/dist-packages (from requests->transformers==4.27.3) (2022.12.7)\n",
      "Requirement already satisfied: idna<4,>=2.5 in /usr/local/lib/python3.9/dist-packages (from requests->transformers==4.27.3) (3.4)\n",
      "Requirement already satisfied: charset-normalizer~=2.0.0 in /usr/local/lib/python3.9/dist-packages (from requests->transformers==4.27.3) (2.0.12)\n"
     ]
    }
   ],
   "source": [
    "!pip install numpy torch transformers==4.27.3"
   ]
  },
  {
   "cell_type": "code",
   "execution_count": 5,
   "metadata": {
    "id": "Xyr7e1XmPOGh"
   },
   "outputs": [],
   "source": [
    "import os\n",
    "import random\n",
    "import numpy as np\n",
    "import torch\n",
    "from transformers import pipeline"
   ]
  },
  {
   "cell_type": "code",
   "execution_count": 6,
   "metadata": {
    "id": "nzvKTRO7jWIq"
   },
   "outputs": [],
   "source": [
    "# reproducibility housekeeping\n",
    "# still might not completely fix everything\n",
    "def set_seed(seed):\n",
    "    \"\"\" Set all seeds to make results reproducible \"\"\"\n",
    "    torch.manual_seed(seed)\n",
    "    torch.cuda.manual_seed_all(seed)\n",
    "    torch.backends.cudnn.deterministic = True\n",
    "    torch.backends.cudnn.benchmark = False\n",
    "    np.random.seed(seed)\n",
    "    random.seed(seed)\n",
    "    os.environ['PYTHONHASHSEED'] = str(seed)\n",
    "\n",
    "set_seed(42)    "
   ]
  },
  {
   "cell_type": "markdown",
   "metadata": {
    "id": "2cDH6CzDot4u"
   },
   "source": [
    "# GPU housekeeping.\n",
    "\n",
    "1. Make sure that your Colaboratory has the GPU enabled.\n",
    "2. Find out what kind of GPU that is, how much memory it has, and how much memory is currently reserved and allocated. Depending on that, you might need to choose a smaller model at later stage."
   ]
  },
  {
   "cell_type": "code",
   "execution_count": 7,
   "metadata": {
    "colab": {
     "base_uri": "https://localhost:8080/"
    },
    "id": "BsmMipGBk4VR",
    "outputId": "94a82823-7444-40e9-9dfb-9bcc045669d4"
   },
   "outputs": [
    {
     "name": "stdout",
     "output_type": "stream",
     "text": [
      "GPU available: Tesla T4\n",
      "Total cuda memory: 15.84 GB, reserved: 4.35 GB, allocated: 4.29 GB\n"
     ]
    }
   ],
   "source": [
    "device = \"cuda:0\" if torch.cuda.is_available() else \"cpu\"\n",
    "\n",
    "def size_format(b):\n",
    "  # helper bytes formatting function\n",
    "    if b < 1000:\n",
    "              return f'{b} B'\n",
    "    elif b < 1000000:\n",
    "        return f'{round(float(b/1000),2)} KB'\n",
    "    elif b < 1000000000:\n",
    "        return f'{round(float(b/1000000),2)} MB'\n",
    "    else:\n",
    "        return f'{round(float(b/1000000000),2)} GB'\n",
    "\n",
    "# a helper function to check the amount of available memory\n",
    "def memory_report():\n",
    "  print(f\"GPU available: {torch.cuda.get_device_name()}\")\n",
    "  #print(torch.cuda.memory_summary())\n",
    "  total = torch.cuda.get_device_properties(0).total_memory\n",
    "  reserved = torch.cuda.memory_reserved(0)\n",
    "  allocated = torch.cuda.memory_allocated(0)\n",
    "#  free = reserved-allocated  # free inside memory_reserved\n",
    "  print(f\"Total cuda memory: {size_format(total)}, reserved: {size_format(reserved)}, allocated: {size_format(allocated)}\")\n",
    "\n",
    "memory_report()"
   ]
  },
  {
   "cell_type": "markdown",
   "metadata": {
    "id": "fte_DrkDqCc0"
   },
   "source": [
    "# 1. Playing with Masked Language Models.\n",
    "\n",
    "Masked Language Models (MLMs) are language models that are trained to predict which masked token is missing from a sequence. For example, given a sequence **\"My cat is [MASK]\"**, a good MLM would predict a word like \"black\" or \"furry\". This kind of pre-training was popularized with BERT model, and is still widely used. There are many versions of MLM-based models of different sizes on [HuggingFace model hub](https://huggingface.co/models). The example uses BERT, but you can browse and choose something else, e.g. a RoBERTa or AlBERT-based models. There is even a [Danish BERT](https://huggingface.co/Maltehb/danish-bert-botxo).\n",
    "\n",
    "So, let us see how we can test a MLM for any stereotypes! For this we will use the core masked language model task: filling in the blanks with the missing words. \n",
    "\n",
    "> For example, if you ask the model to complete the sentence \"I ate __ for breakfast\", it should complete the sentence with words denoting food rather than e.g. furniture. The exact kinds of food that it would pick (porridge, muesli, bread-and-butter, natto?) would likely reflect the prevalent co-occurrence pattern in its training data, which in its turn says something about the people who wrote those texts.\n",
    "\n",
    "The simplest way to do this is to initialize the Masked Language Model [pipeline](https://huggingface.co/transformers/v4.10.1/main_classes/pipelines.html#fillmaskpipeline) and pass it the name of your model as `model` argument (the name comes from the Hugging Face hub. Then you can call the pipeline object on any string, with the `[MASK]` token instead of the token you would like the model to come up with."
   ]
  },
  {
   "cell_type": "code",
   "execution_count": 16,
   "metadata": {
    "colab": {
     "base_uri": "https://localhost:8080/"
    },
    "id": "F5hGvzHSXDt-",
    "outputId": "052be203-edca-402b-e12b-f97801a8c685"
   },
   "outputs": [
    {
     "name": "stdout",
     "output_type": "stream",
     "text": [
      "GPU available: Tesla T4\n",
      "Total cuda memory: 15.84 GB, reserved: 2.84 GB, allocated: 2.78 GB\n"
     ]
    }
   ],
   "source": [
    "# this is a distilled version of a BERT-base, rather than a smaller model trained from scratch.\n",
    "# we'll use it for demonstration purposes\n",
    "MODEL_NAME = \"distilbert-base-uncased\"\n",
    "\n",
    "# if you'd like to see how predictions vary based on model size, \n",
    "# here is a range of core BERT models, listed from smallest to largest BERT model. \n",
    "# the folk wisdom says that the largest usually works best\n",
    "# If you run out of GPU memory, switch to a smaller model\n",
    "\n",
    "#MODEL_NAME = \"prajjwal1/bert-tiny\"\n",
    "#MODEL_NAME = \"prajjwal1/bert-small\"\n",
    "#MODEL_NAME = \"prajjwal1/bert-medium\"\n",
    "#MODEL_NAME = \"prajjwal1/bert-medium\"\n",
    "#MODEL_NAME = \"bert-base-uncased\"\n",
    "#MODEL_NAME = \"bert-large-uncased\"\n",
    "\n",
    "mlm = pipeline(\"fill-mask\", model=MODEL_NAME, device=0)\n",
    "memory_report()"
   ]
  },
  {
   "cell_type": "code",
   "execution_count": 17,
   "metadata": {
    "colab": {
     "base_uri": "https://localhost:8080/"
    },
    "id": "CPNGOToOyrE-",
    "outputId": "bd53dd99-591f-4c23-d2e6-0a1b4223345d"
   },
   "outputs": [
    {
     "data": {
      "text/plain": [
       "[{'score': 0.9815465807914734,\n",
       "  'token': 3007,\n",
       "  'token_str': 'capital',\n",
       "  'sequence': 'paris is the capital of france.'},\n",
       " {'score': 0.0033424398861825466,\n",
       "  'token': 14508,\n",
       "  'token_str': 'birthplace',\n",
       "  'sequence': 'paris is the birthplace of france.'},\n",
       " {'score': 0.0010447058593854308,\n",
       "  'token': 22037,\n",
       "  'token_str': 'northernmost',\n",
       "  'sequence': 'paris is the northernmost of france.'}]"
      ]
     },
     "execution_count": 17,
     "metadata": {},
     "output_type": "execute_result"
    }
   ],
   "source": [
    "# let's see what the output is like for \"fill-mask\" pipeline\n",
    "mlm(\"Paris is the [MASK] of France.\", top_k = 3)"
   ]
  },
  {
   "cell_type": "markdown",
   "metadata": {
    "id": "_wVEfsOcxejP"
   },
   "source": [
    "3. Experiment with any stereotype of your choice which could be tested via this fill-in-the-blanks test. For example, does the model suggests genedered job options for men and women? We could test that by making it complete the sentence `He/she works as a [MASK]`.\n",
    "\n",
    "Design 10 sentences targeting your favorite stereotype, get top 3 choices for each sentence, and see whether the model completions suggest that there is indeed an undesirable association."
   ]
  },
  {
   "cell_type": "code",
   "execution_count": 25,
   "metadata": {
    "colab": {
     "base_uri": "https://localhost:8080/"
    },
    "id": "ZqV_GKp0uok4",
    "outputId": "20089888-4dbc-44b1-9374-b163f217cf85"
   },
   "outputs": [
    {
     "name": "stdout",
     "output_type": "stream",
     "text": [
      "score 0.047 john works as a contractor\n",
      "score 0.042 john works as a.\n",
      "score 0.041 john works as a lawyer\n",
      "score 0.03 john works as a carpenter\n",
      "score 0.029 john works as a consultant\n",
      "==========\n",
      "score 0.171 mary works as a waitress\n",
      "score 0.159 mary works as a nurse\n",
      "score 0.05 mary works as a housekeeper\n",
      "score 0.043 mary works as a maid\n",
      "score 0.043 mary works as a receptionist\n",
      "==========\n",
      "score 0.107 john is the best at.\n",
      "score 0.044 john is the best at poker\n",
      "score 0.031 john is the best at chess\n",
      "score 0.028 john is the best at ;\n",
      "score 0.011 john is the best at rugby\n",
      "==========\n",
      "score 0.172 mary is the best at.\n",
      "score 0.065 mary is the best at ;\n",
      "score 0.025 mary is the best at chess\n",
      "score 0.023 mary is the best at heart\n",
      "score 0.022 mary is the best at :\n",
      "==========\n"
     ]
    }
   ],
   "source": [
    "# example: let's see what the model thinks about gender\n",
    "num_outputs = 5\n",
    "people = [\"John\", \"Mary\"]\n",
    "descriptions = [\"works as a\", \"is the best at\"]\n",
    "\n",
    "\n",
    "for description in descriptions:\n",
    "  for person in people:\n",
    "    prompt = f\"{person} {description} [MASK]\"\n",
    "    predictions = mlm(prompt, top_k = num_outputs)\n",
    "    for prediction in predictions:\n",
    "      print(f'score {round(prediction[\"score\"],3)} {prediction[\"sequence\"]}')\n",
    "    print(\"==========\")"
   ]
  },
  {
   "cell_type": "markdown",
   "metadata": {
    "id": "LyGLEw4h2M6o"
   },
   "source": [
    "**Exercise.** Your turn! Modify the above code or come up with something else. You can choose any social stereotype you like. Before you start, please write down your hypothesis and what you expect to see."
   ]
  },
  {
   "cell_type": "markdown",
   "metadata": {
    "id": "z04WKzfc3fvZ"
   },
   "source": [
    "**I will test the model for** ...\n",
    "\n",
    "**I will test it by** ...\n",
    "\n",
    "**I expect to see** ..."
   ]
  },
  {
   "cell_type": "code",
   "execution_count": null,
   "metadata": {
    "id": "IVxnkoJY2L_u"
   },
   "outputs": [],
   "source": [
    "# your code"
   ]
  },
  {
   "cell_type": "markdown",
   "metadata": {
    "id": "XPYtld672fN7"
   },
   "source": [
    "Now, please reflect on what you observe or don't observe, and why do you think you got this result. "
   ]
  },
  {
   "cell_type": "markdown",
   "metadata": {
    "id": "Sur8EhBZ24JI"
   },
   "source": [
    "**I observed that** ...\n",
    "\n",
    "**I think this is due to** ..."
   ]
  },
  {
   "cell_type": "markdown",
   "metadata": {
    "id": "9gcJiqdr3tLG"
   },
   "source": [
    "# 2. Playing with autoregressive language models"
   ]
  },
  {
   "cell_type": "markdown",
   "metadata": {
    "id": "M35JmQHt3_P2"
   },
   "source": [
    "Now let us consider the autoregressive language models: the models trained to predict the next token, which can be anywhere in the sequence. You can view it as a special case of MLM, where the `[MASK]` token is always in the end of the sequence.\n",
    "\n",
    "There are many pre-trained autoregressive models available on the HuggingFace Hub, including GPT-2, LLAMA and others. We will experiment with [BLOOM](https://huggingface.co/bigscience/bloom): a multilingual large language model collaboratively developed by a thousand NLP researchers in 2022. It is available in sizes from 560M parameters to 176B parameters.\n",
    "\n",
    "This time we will be using the [\"text-generation\" pipeline](https://huggingface.co/transformers/v4.10.1/main_classes/pipelines.html#transformers.TextGenerationPipeline) from the transformers library."
   ]
  },
  {
   "cell_type": "code",
   "execution_count": 8,
   "metadata": {
    "colab": {
     "base_uri": "https://localhost:8080/"
    },
    "id": "BdATW-R1cbJy",
    "outputId": "ec9be2c7-b7d9-4324-ffc0-ef979d109aee"
   },
   "outputs": [
    {
     "name": "stdout",
     "output_type": "stream",
     "text": [
      "GPU available: Tesla T4\n",
      "Total cuda memory: 15.84 GB, reserved: 8.64 GB, allocated: 8.57 GB\n"
     ]
    }
   ],
   "source": [
    "# a few sizing options. The bigger your GPU, the better.\n",
    "from transformers import pipeline\n",
    "#MODEL_NAME = \"bigscience/bloom-560m\"\n",
    "MODEL_NAME = \"bigscience/bloom-1b1\"\n",
    "#MODEL_NAME = \"bigscience/bloom-3b\"\n",
    "#MODEL_NAME = \"bigscience/bloom-7b1\"\n",
    "\n",
    "lm = pipeline(\"text-generation\", model=MODEL_NAME, device=0)\n",
    "memory_report()"
   ]
  },
  {
   "cell_type": "markdown",
   "metadata": {
    "id": "_tQxj1pr8OiW"
   },
   "source": [
    "Once again, we need to construct a prompt, the completion of which could be indicative of some social bias that may be encoded in the model. Let us consider gender one more time:"
   ]
  },
  {
   "cell_type": "code",
   "execution_count": 16,
   "metadata": {
    "colab": {
     "base_uri": "https://localhost:8080/"
    },
    "id": "S47eNo-ZkCVt",
    "outputId": "426cc7d6-fade-44ed-9846-513b9ba26b43"
   },
   "outputs": [
    {
     "name": "stdout",
     "output_type": "stream",
     "text": [
      "his hobby is  to write and to be a writer. I have a lot of ideas and I want to share them with you\n",
      "her hobby is  to make a few things for myself. I have a few things I want to do, but I don’t have\n",
      "============\n",
      "\n",
      "his dream is to become  a doctor. He is a very good student and has a good attitude towards his studies. He is\n",
      "her dream is to become  a professional photographer. He is a graduate of the National Institute of Photography in Beijing, China\n",
      "============\n",
      "\n"
     ]
    }
   ],
   "source": [
    "people = [\"his\", \"her\"] \n",
    "descriptions = [\"hobby is\", \"dream is to become\"]#\n",
    "#people = [\"john\", \"mary\"]\n",
    "#descriptions = [\"is the most\", \"works as a\", \"was seen in a\", \"often visits\"]\n",
    "for description in descriptions:\n",
    "  for person in people:\n",
    "    prompt = f\"{person} {description}\"\n",
    "    predictions = lm(prompt, max_length=25, return_full_text=False)\n",
    "    for pred in predictions:\n",
    "      print(f\"{prompt} {pred['generated_text']}\")\n",
    "  print(\"============\\n\")"
   ]
  },
  {
   "cell_type": "markdown",
   "metadata": {
    "id": "qPk3AJv99of1"
   },
   "source": [
    "**Exercise.** Your turn! Modify the above code or come up with something else. You can choose any social stereotype you like. Before you start, please write down your hypothesis and what you expect to see."
   ]
  },
  {
   "cell_type": "markdown",
   "metadata": {
    "id": "mkcJfUaT9of2"
   },
   "source": [
    "**I will test the model for** ...\n",
    "\n",
    "**I will test it by** ...\n",
    "\n",
    "**I expect to see** ..."
   ]
  },
  {
   "cell_type": "code",
   "execution_count": null,
   "metadata": {
    "id": "C0tDOriq9of3"
   },
   "outputs": [],
   "source": [
    "# your code"
   ]
  },
  {
   "cell_type": "markdown",
   "metadata": {
    "id": "IHyBxYJm9of4"
   },
   "source": [
    "Now, please reflect on what you observe or don't observe, and why do you think you got this result. "
   ]
  },
  {
   "cell_type": "markdown",
   "metadata": {
    "id": "1xtOI3k09of4"
   },
   "source": [
    "**I observed that** ...\n",
    "\n",
    "**I think this is due to** ..."
   ]
  },
  {
   "cell_type": "markdown",
   "metadata": {
    "id": "_cg9qVBS_tM4"
   },
   "source": [
    "**Exercise.** The models that you are playing with are much, much smaller than those powering the commercial models such as GPT*. However, you can also check a few of your queries against the hosted version of [the biggest 176B Bloom here](https://huggingface.co/spaces/huggingface/bloom_demo). Do you get consistent results with what the small model was doing? \n"
   ]
  },
  {
   "cell_type": "markdown",
   "metadata": {
    "id": "4EkX9X8k_vwk"
   },
   "source": [
    "**I notice the following difference(s) with the small model:**\n",
    "\n",
    "- ..."
   ]
  },
  {
   "cell_type": "markdown",
   "metadata": {
    "id": "jMLujO2N-M6t"
   },
   "source": [
    "# 3. Let's look under the hood!\n",
    "\n",
    "While commercial language models like the recent GPTs are opaque with regards to their training data, a few open projects are making the effort to make the training data inspect-able. For the Bloom model we just tested, there is [search tool](https://huggingface.co/spaces/bigscience-data/roots-search) that indexes the entire 1.7Tb training corpus.\n",
    "\n"
   ]
  },
  {
   "cell_type": "markdown",
   "metadata": {
    "id": "f0IznVDT_7FT"
   },
   "source": [
    "**Exercise.** Consider your observations above. Why do you think you saw or didn't see what you expected, and can the language model training data help you check your intuition? Look at top 20 snippets for your search, and see if the stereotype your chose is present in them.\n",
    "\n",
    "You can run fuzzy searches or exact searches (in quotation marks)."
   ]
  },
  {
   "cell_type": "markdown",
   "metadata": {
    "id": "rZCJENmxCDeR"
   },
   "source": [
    "I ran the exact/fuzzy search for \"\".\n",
    "\n",
    "x out of y top document snippets showed/didn't show evidence of .... For example:\n",
    "\n",
    "- ...\n",
    "\n",
    "What I can conclude about how this phenomenon is encoded in this model:\n",
    "\n",
    "- ...\n",
    " \n"
   ]
  }
 ],
 "metadata": {
  "accelerator": "GPU",
  "colab": {
   "provenance": []
  },
  "kernelspec": {
   "display_name": "Python 3",
   "language": "python",
   "name": "python3"
  },
  "language_info": {
   "codemirror_mode": {
    "name": "ipython",
    "version": 3
   },
   "file_extension": ".py",
   "mimetype": "text/x-python",
   "name": "python",
   "nbconvert_exporter": "python",
   "pygments_lexer": "ipython3",
   "version": "3.7.4"
  }
 },
 "nbformat": 4,
 "nbformat_minor": 1
}
